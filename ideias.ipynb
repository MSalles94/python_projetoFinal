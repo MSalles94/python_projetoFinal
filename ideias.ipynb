{
 "cells": [
  {
   "cell_type": "markdown",
   "metadata": {},
   "source": [
    "---\n",
    "# VISÃO GERAL\n",
    "\n",
    "### ESTRATÉGIA\n",
    "\n",
    "Responder perguntas básicas"
   ]
  },
  {
   "cell_type": "markdown",
   "metadata": {},
   "source": [
    "---\n",
    "# VISÃO GEOGRÁFICA\n",
    "\n",
    "### LISTAR CIDADES\n",
    "lista de cidades com filtro de pagina\n",
    "\n",
    "### MAPA FOLIUM\n",
    "Fazer um mapa com filtro de cidades"
   ]
  },
  {
   "cell_type": "markdown",
   "metadata": {},
   "source": [
    "---\n",
    "# RESTAURANTES"
   ]
  }
 ],
 "metadata": {
  "language_info": {
   "name": "python"
  }
 },
 "nbformat": 4,
 "nbformat_minor": 2
}
