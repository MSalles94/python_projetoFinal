{
 "cells": [
  {
   "cell_type": "code",
   "execution_count": 1,
   "metadata": {},
   "outputs": [],
   "source": [
    "from scripts.manipular_dados.A00_leitura_dados import ler_dados\n",
    "dados=ler_dados()"
   ]
  },
  {
   "cell_type": "code",
   "execution_count": 2,
   "metadata": {},
   "outputs": [
    {
     "data": {
      "text/plain": [
       "Index(['Restaurant_ID', 'Restaurant_Name', 'Country_Code', 'City', 'Address',\n",
       "       'Locality', 'Locality_Verbose', 'Longitude', 'Latitude', 'Cuisines',\n",
       "       'Average_Cost_for_two', 'Currency', 'Has_Table_booking',\n",
       "       'Has_Online_delivery', 'Is_delivering_now', 'Price_range',\n",
       "       'Aggregate_rating', 'Rating_color', 'Rating_text', 'Votes',\n",
       "       'Country_name', 'main_Cuisines'],\n",
       "      dtype='object')"
      ]
     },
     "execution_count": 2,
     "metadata": {},
     "output_type": "execute_result"
    }
   ],
   "source": [
    "dados.columns"
   ]
  },
  {
   "cell_type": "code",
   "execution_count": 3,
   "metadata": {},
   "outputs": [
    {
     "data": {
      "text/plain": [
       "'    8. Os restaurantes do tipo culinária japonesa dos Estados Unidos da America possuem um valor médio \\nde prato para dusa pessoas maior que as churrascarias americanas (BBQ)?\\n'"
      ]
     },
     "execution_count": 3,
     "metadata": {},
     "output_type": "execute_result"
    }
   ],
   "source": [
    "    \n",
    "\"\"\"    8. Os restaurantes do tipo culinária japonesa dos Estados Unidos da America possuem um valor médio \n",
    "de prato para dusa pessoas maior que as churrascarias americanas (BBQ)?\n",
    "\"\"\""
   ]
  },
  {
   "cell_type": "code",
   "execution_count": 9,
   "metadata": {},
   "outputs": [
    {
     "data": {
      "text/html": [
       "<div>\n",
       "<style scoped>\n",
       "    .dataframe tbody tr th:only-of-type {\n",
       "        vertical-align: middle;\n",
       "    }\n",
       "\n",
       "    .dataframe tbody tr th {\n",
       "        vertical-align: top;\n",
       "    }\n",
       "\n",
       "    .dataframe thead th {\n",
       "        text-align: right;\n",
       "    }\n",
       "</style>\n",
       "<table border=\"1\" class=\"dataframe\">\n",
       "  <thead>\n",
       "    <tr style=\"text-align: right;\">\n",
       "      <th></th>\n",
       "      <th>Type</th>\n",
       "      <th>Average_Cost_for_two</th>\n",
       "    </tr>\n",
       "  </thead>\n",
       "  <tbody>\n",
       "    <tr>\n",
       "      <th>0</th>\n",
       "      <td>USA BBQ</td>\n",
       "      <td>1665.0</td>\n",
       "    </tr>\n",
       "    <tr>\n",
       "      <th>1</th>\n",
       "      <td>USA Japanese</td>\n",
       "      <td>1805.0</td>\n",
       "    </tr>\n",
       "  </tbody>\n",
       "</table>\n",
       "</div>"
      ],
      "text/plain": [
       "           Type  Average_Cost_for_two\n",
       "0       USA BBQ                1665.0\n",
       "1  USA Japanese                1805.0"
      ]
     },
     "execution_count": 9,
     "metadata": {},
     "output_type": "execute_result"
    }
   ],
   "source": [
    "def avg_cost_booking(dados):\n",
    "\n",
    "    dados=dados[dados['Country_name'].isin(['United States of America'])].copy()\n",
    "\n",
    "    dados=dados[['Restaurant_ID','main_Cuisines','Average_Cost_for_two']].drop_duplicates().copy()\n",
    "\n",
    "\n",
    "    japa_usa=dados['main_Cuisines'].isin(['Japanese'])\n",
    "    bbq_usa=dados['main_Cuisines'].isin(['BBQ'])\n",
    "\n",
    "    dados.loc[japa_usa,'Type']='USA Japanese'\n",
    "    dados.loc[bbq_usa,'Type']='USA BBQ'\n",
    "    dados=dados[~dados['Type'].isna()]\n",
    "    dados=dados.groupby(['Type'])[['Average_Cost_for_two']].sum().reset_index()\n",
    "\n",
    "\n",
    "    return dados\n",
    "avg_cost_booking(dados)"
   ]
  }
 ],
 "metadata": {
  "kernelspec": {
   "display_name": "projeto_cds_python",
   "language": "python",
   "name": "python3"
  },
  "language_info": {
   "codemirror_mode": {
    "name": "ipython",
    "version": 3
   },
   "file_extension": ".py",
   "mimetype": "text/x-python",
   "name": "python",
   "nbconvert_exporter": "python",
   "pygments_lexer": "ipython3",
   "version": "3.8.19"
  }
 },
 "nbformat": 4,
 "nbformat_minor": 2
}
