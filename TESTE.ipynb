{
 "cells": [
  {
   "cell_type": "code",
   "execution_count": 2,
   "metadata": {},
   "outputs": [],
   "source": [
    "from scripts.manipular_dados.A00_leitura_dados import ler_dados\n",
    "dados=ler_dados()"
   ]
  },
  {
   "cell_type": "code",
   "execution_count": 3,
   "metadata": {},
   "outputs": [
    {
     "data": {
      "text/plain": [
       "Index(['Restaurant_ID', 'Restaurant_Name', 'Country_Code', 'City', 'Address',\n",
       "       'Locality', 'Locality_Verbose', 'Longitude', 'Latitude', 'Cuisines',\n",
       "       'Average_Cost_for_two', 'Currency', 'Has_Table_booking',\n",
       "       'Has_Online_delivery', 'Is_delivering_now', 'Price_range',\n",
       "       'Aggregate_rating', 'Rating_color', 'Rating_text', 'Votes',\n",
       "       'Country_name', 'main_Cuisines'],\n",
       "      dtype='object')"
      ]
     },
     "execution_count": 3,
     "metadata": {},
     "output_type": "execute_result"
    }
   ],
   "source": [
    "dados.columns"
   ]
  },
  {
   "cell_type": "code",
   "execution_count": 4,
   "metadata": {},
   "outputs": [
    {
     "data": {
      "text/plain": [
       "array([ 619,  469,  867, ..., 1367, 1160, 1141])"
      ]
     },
     "execution_count": 4,
     "metadata": {},
     "output_type": "execute_result"
    }
   ],
   "source": [
    "dados['Votes'].unique()"
   ]
  },
  {
   "cell_type": "code",
   "execution_count": 5,
   "metadata": {},
   "outputs": [],
   "source": [
    "def Country_count_if(df,count={'Restaurant_ID':'count'},filtro={}):\n",
    "    data=df.copy()\n",
    "\n",
    "    if filtro=={}:\n",
    "        pass\n",
    "    else:\n",
    "        lista_filtro=1\n",
    "        for coluna,criterio in filtro.items():\n",
    "            df[coluna].isin(criterio)\n",
    "    x=data[['Country_name',count.keys()[0]]].drop_duplicates()\n",
    "                   \n",
    "\n",
    "    return data\n",
    "    pass\n",
    "\n",
    "cities=Country_count_if(dados,count={'Restaurant_ID':'count'})\n",
    "\n",
    "#cities=aux_df[['Country_name','City']].drop_duplicates().groupby(['Country_name']).count().rename(columns={'City':'Cities'})\n",
    "#restaurants=aux_df[['Country_name','Restaurant_ID']].drop_duplicates().groupby(['Country_name']).count().rename(columns={'Restaurant_ID':'restaurants'})\n",
    "#gourmet=aux_df[aux_df['Price_range']=='gourmet'][['Country_name','Restaurant_ID']].drop_duplicates().groupby(['Country_name']).count().rename(columns={'Restaurant_ID':'restaurants'})\n",
    "#cuisines=aux_df[['Country_name','main_Cuisines']].drop_duplicates().groupby(['Country_name']).count().rename(columns={'main_Cuisines':'cuisines'})\n",
    "#ratings=aux_df[['Country_name','Restaurant_ID','Votes']].drop_duplicates().groupby(['Country_name'])[['Votes']].sum()\n",
    "\n",
    "\n"
   ]
  }
 ],
 "metadata": {
  "kernelspec": {
   "display_name": "projeto_cds_python",
   "language": "python",
   "name": "python3"
  },
  "language_info": {
   "codemirror_mode": {
    "name": "ipython",
    "version": 3
   },
   "file_extension": ".py",
   "mimetype": "text/x-python",
   "name": "python",
   "nbconvert_exporter": "python",
   "pygments_lexer": "ipython3",
   "version": "3.8.19"
  }
 },
 "nbformat": 4,
 "nbformat_minor": 2
}
